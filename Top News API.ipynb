{
 "cells": [
  {
   "cell_type": "code",
   "execution_count": 2,
   "metadata": {},
   "outputs": [
    {
     "ename": "IndentationError",
     "evalue": "expected an indented block (<ipython-input-2-d238be731a62>, line 19)",
     "output_type": "error",
     "traceback": [
      "\u001b[1;36m  File \u001b[1;32m\"<ipython-input-2-d238be731a62>\"\u001b[1;36m, line \u001b[1;32m19\u001b[0m\n\u001b[1;33m    pprint(i['title'])\u001b[0m\n\u001b[1;37m         ^\u001b[0m\n\u001b[1;31mIndentationError\u001b[0m\u001b[1;31m:\u001b[0m expected an indented block\n"
     ]
    }
   ],
   "source": [
    "import pprint\n",
    "import requests # 2.19.1\n",
    "secret = '0bb2d65db5d9401cbd708c89173c692d'\n",
    "# Define the endpoint\n",
    "url = 'https://newsapi.org/v2/top headlines?'\n",
    "# Specify the query and number of returns\n",
    "parameters = {\n",
    "'q': 'The Lion King', # query phrase\n",
    "'pageSize': 20, # maximum is 100\n",
    "'apiKey': secret # your own API key\n",
    "}\n",
    "# Make the request\n",
    "response = requests.get(url, params=parameters)\n",
    "# Convert the response to JSON format and pretty print it\n",
    "response_json = response.json()\n",
    "pprint.pprint(response_json)\n",
    "for i in response_json['articles']:\n",
    "\n",
    "print(i['title'])"
   ]
  },
  {
   "cell_type": "code",
   "execution_count": null,
   "metadata": {},
   "outputs": [],
   "source": []
  },
  {
   "cell_type": "code",
   "execution_count": null,
   "metadata": {},
   "outputs": [],
   "source": []
  }
 ],
 "metadata": {
  "kernelspec": {
   "display_name": "Python 3",
   "language": "python",
   "name": "python3"
  },
  "language_info": {
   "codemirror_mode": {
    "name": "ipython",
    "version": 3
   },
   "file_extension": ".py",
   "mimetype": "text/x-python",
   "name": "python",
   "nbconvert_exporter": "python",
   "pygments_lexer": "ipython3",
   "version": "3.7.3"
  }
 },
 "nbformat": 4,
 "nbformat_minor": 2
}
